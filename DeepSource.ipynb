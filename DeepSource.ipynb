{
 "cells": [
  {
   "cell_type": "code",
   "execution_count": 1,
   "metadata": {},
   "outputs": [],
   "source": [
    "#imports all required static code analysis libraries\n",
    "import ast\n",
    "from collections import defaultdict\n",
    "import sys\n",
    "import tokenize"
   ]
  },
  {
   "cell_type": "code",
   "execution_count": 2,
   "metadata": {},
   "outputs": [],
   "source": [
    "#Checks for the violations and adds to a list\n",
    "class BaseChecker(ast.NodeVisitor):\n",
    "    def __init__(self):\n",
    "        self.violations = []"
   ]
  },
  {
   "cell_type": "code",
   "execution_count": 3,
   "metadata": {},
   "outputs": [],
   "source": [
    "#This code block checks the submitted text file for for loops that do not have parentheses guarding the for clause for C++\n",
    "# Example: for(i = 0; i < 5; i++)\n",
    "#              std::cout << i << std::endl;\n",
    "class NoParenthesesForChecker(BaseChecker):\n",
    "    msg = \"Syntax Error: your program will never enter the for loop unless the first line is in formatted: \\n \\t \\t 'for(initilization; test; update) form'\"\n",
    "    def __init__(self):\n",
    "        self.violations = []\n",
    "\n",
    "    def find_violations(self, filename, tokens):\n",
    "        for token_type, token, (line, col), _, _ in tokens:\n",
    "            for loopline in token:\n",
    "                if loopline.startswith('f') and not loopline.endswith(')'):\n",
    "                        self.violations.append((filename, line, col))\n",
    "\n",
    "    def check(self, filename):\n",
    "            with tokenize.open(filename) as fd:\n",
    "                tokens = tokenize.generate_tokens(fd.readline)\n",
    "                self.find_violations(filename, tokens)\n",
    "\n",
    "    def report(self):\n",
    "        for violation in self.violations:\n",
    "            filename, line, col = violation\n",
    "            print(f\"{filename}:{line}:{col}: {self.msg}\")\n"
   ]
  },
  {
   "cell_type": "code",
   "execution_count": 4,
   "metadata": {},
   "outputs": [
    {
     "name": "stdout",
     "output_type": "stream",
     "text": [
      "c++for.txt:1:0: Syntax Error: your program will never enter the for loop unless the first line is in formatted: \n",
      " \t \t 'for(initilization; test; update) form'\n",
      "c++for.txt:6:0: Syntax Error: your program will never enter the for loop unless the first line is in formatted: \n",
      " \t \t 'for(initilization; test; update) form'\n",
      "c++for.txt:12:0: Syntax Error: your program will never enter the for loop unless the first line is in formatted: \n",
      " \t \t 'for(initilization; test; update) form'\n",
      "c++for.txt:17:0: Syntax Error: your program will never enter the for loop unless the first line is in formatted: \n",
      " \t \t 'for(initilization; test; update) form'\n",
      "c++for.txt:25:0: Syntax Error: your program will never enter the for loop unless the first line is in formatted: \n",
      " \t \t 'for(initilization; test; update) form'\n"
     ]
    }
   ],
   "source": [
    "#This code block uses the functions defined in the above block to evaluate the submitted c++ formatted text file\n",
    "if __name__ == '__main__':\n",
    "    filename = 'c++for.txt'\n",
    "    checker = NoParenthesesForChecker()\n",
    "    checker.check(filename)\n",
    "    checker.report()"
   ]
  },
  {
   "cell_type": "code",
   "execution_count": 5,
   "metadata": {},
   "outputs": [],
   "source": [
    "#This code block checks the submitted text file for for loops that do not end in a colon for a python file\n",
    "# Example: for i in range(5):\n",
    "#              print(i)\n",
    "class NoColonForChecker(BaseChecker):\n",
    "    msg = \"Syntax Error: your program will never enter the for loop unless the first line is in formatted: \\n \\t \\t 'for variable in range: form'\"\n",
    "    def __init__(self):\n",
    "        self.violations = []\n",
    "\n",
    "    def find_violations(self, filename, tokens):\n",
    "        for token_type, token, (line, col), _, _ in tokens:\n",
    "            for loopline in token:\n",
    "                if loopline.startswith('f') and not loopline.endswith(':'):\n",
    "                        self.violations.append((filename, line, col))\n",
    "\n",
    "    def check(self, filename):\n",
    "            with tokenize.open(filename) as fd:\n",
    "                tokens = tokenize.generate_tokens(fd.readline)\n",
    "                self.find_violations(filename, tokens)\n",
    "\n",
    "    def report(self):\n",
    "        for violation in self.violations:\n",
    "            filename, line, col = violation\n",
    "            print(f\"{filename}:{line}:{col}: {self.msg}\")"
   ]
  },
  {
   "cell_type": "code",
   "execution_count": 6,
   "metadata": {},
   "outputs": [
    {
     "name": "stdout",
     "output_type": "stream",
     "text": [
      "pythonfor.txt:1:0: Syntax Error: your program will never enter the for loop unless the first line is in formatted: \n",
      " \t \t 'for variable in range: form'\n",
      "pythonfor.txt:4:0: Syntax Error: your program will never enter the for loop unless the first line is in formatted: \n",
      " \t \t 'for variable in range: form'\n",
      "pythonfor.txt:6:0: Syntax Error: your program will never enter the for loop unless the first line is in formatted: \n",
      " \t \t 'for variable in range: form'\n",
      "pythonfor.txt:9:0: Syntax Error: your program will never enter the for loop unless the first line is in formatted: \n",
      " \t \t 'for variable in range: form'\n",
      "pythonfor.txt:14:0: Syntax Error: your program will never enter the for loop unless the first line is in formatted: \n",
      " \t \t 'for variable in range: form'\n"
     ]
    }
   ],
   "source": [
    "#This code block uses the functions defined in the above block to evaluate the submitted python formatted text file\n",
    "if __name__ == '__main__':\n",
    "    filename = 'pythonfor.txt'\n",
    "    checker = NoColonForChecker()\n",
    "    checker.check(filename)\n",
    "    checker.report()"
   ]
  }
 ],
 "metadata": {
  "kernelspec": {
   "display_name": "Python 3",
   "language": "python",
   "name": "python3"
  },
  "language_info": {
   "codemirror_mode": {
    "name": "ipython",
    "version": 3
   },
   "file_extension": ".py",
   "mimetype": "text/x-python",
   "name": "python",
   "nbconvert_exporter": "python",
   "pygments_lexer": "ipython3",
   "version": "3.8.3"
  }
 },
 "nbformat": 4,
 "nbformat_minor": 4
}
